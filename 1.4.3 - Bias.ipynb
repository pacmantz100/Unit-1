{
 "cells": [
  {
   "cell_type": "markdown",
   "metadata": {},
   "source": [
    "## DRILL: Am I Biased?\n",
    "\n",
    "For each of the following scenarios, call out the potential biases in the proposed experiment. Do your best to try to discover not only the bias, but the initial design. There is plenty of room for interpretation here, so make sure to state what assumptions you're making.\n",
    "\n",
    "You're testing advertising emails for a bathing suit company and you test one version of the email in February and the other in May.\n",
    "-there is a contextual bias because it is warmer in May than it is in February\n",
    "\n",
    "You open a clinic to treat anxiety and find that the people who visit show a higher rate of anxiety than the general population.\n",
    "-the sample of people visiting the clinic does not represent the general population...the sample is does not reflect population\n",
    "\n",
    "You launch a new ad billboard based campaign and see an increase in website visits in the first week.\n",
    "-this may not be the only factor responsble for the increase in website visits\n",
    "\n",
    "You launch a loyalty program but see no change in visits in the first week.\n",
    "-time is too short to measure\n",
    "-maybe the site was inaccessible"
   ]
  }
 ],
 "metadata": {
  "kernelspec": {
   "display_name": "Python 3",
   "language": "python",
   "name": "python3"
  },
  "language_info": {
   "codemirror_mode": {
    "name": "ipython",
    "version": 3
   },
   "file_extension": ".py",
   "mimetype": "text/x-python",
   "name": "python",
   "nbconvert_exporter": "python",
   "pygments_lexer": "ipython3",
   "version": "3.6.5"
  }
 },
 "nbformat": 4,
 "nbformat_minor": 2
}
