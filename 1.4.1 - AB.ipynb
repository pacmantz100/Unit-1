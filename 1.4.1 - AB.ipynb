{
 "cells": [
  {
   "cell_type": "markdown",
   "metadata": {},
   "source": [
    "For each of the following questions, outline how you could use an A/B test to find an answer. Be sure to identify all five key components of an A/B test we outlined above.    \n",
    "\n",
    "Does a new supplement help people sleep better?\n",
    "    -give two random groups of people the supplement and one with no supplement\n",
    "    -hypothesize that the supplement does help people sleep better\n",
    "    -key metrics are sleep time and reported quality\n",
    "    -alertness and awake during the day\n",
    "\n",
    "Will new uniforms help a gym's business?\n",
    "    -compare revenues or customer counts per square foot between various gyms, some with uniforms and the others without\n",
    "\n",
    "Will a new homepage improve my online exotic pet rental business?\n",
    "    -compare two sites, one with and one without new updates to homepage\n",
    "\n",
    "If I put 'please read' in the email subject will more people read my emails?\n",
    "    -how to do this one? Can't see if people read the email...\n"
   ]
  },
  {
   "cell_type": "markdown",
   "metadata": {},
   "source": []
  },
  {
   "cell_type": "markdown",
   "metadata": {},
   "source": []
  },
  {
   "cell_type": "code",
   "execution_count": null,
   "metadata": {},
   "outputs": [],
   "source": []
  },
  {
   "cell_type": "code",
   "execution_count": null,
   "metadata": {},
   "outputs": [],
   "source": []
  }
 ],
 "metadata": {
  "kernelspec": {
   "display_name": "Python 3",
   "language": "python",
   "name": "python3"
  },
  "language_info": {
   "codemirror_mode": {
    "name": "ipython",
    "version": 3
   },
   "file_extension": ".py",
   "mimetype": "text/x-python",
   "name": "python",
   "nbconvert_exporter": "python",
   "pygments_lexer": "ipython3",
   "version": "3.6.5"
  }
 },
 "nbformat": 4,
 "nbformat_minor": 2
}
